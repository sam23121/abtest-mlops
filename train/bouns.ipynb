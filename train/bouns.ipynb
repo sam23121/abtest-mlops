{
 "cells": [
  {
   "cell_type": "code",
   "execution_count": 1,
   "metadata": {},
   "outputs": [],
   "source": [
    "import numpy as np\n",
    "import pandas as pd\n",
    "import seaborn as sns\n",
    "import matplotlib.pyplot as plt \n",
    "\n",
    "# To Preproccesing our data\n",
    "from sklearn.preprocessing import LabelEncoder\n",
    "from sklearn.preprocessing import MinMaxScaler\n",
    "\n",
    "\n",
    "# To fill missing values\n",
    "from sklearn.impute import SimpleImputer\n",
    "\n",
    "# To Split our train data\n",
    "from sklearn.model_selection import train_test_split\n",
    "\n",
    "\n",
    "# To Train our data\n",
    "# from xgboost import XGBClassifier\n",
    "from sklearn.tree import DecisionTreeClassifier\n",
    "from sklearn.ensemble import RandomForestClassifier\n",
    "from sklearn.neighbors import KNeighborsClassifier\n",
    "from sklearn.linear_model import LogisticRegression\n",
    "from sklearn.naive_bayes import BernoulliNB, GaussianNB\n",
    "\n",
    "# To evaluate end result we have\n",
    "from sklearn.metrics import accuracy_score, confusion_matrix\n",
    "from sklearn.model_selection import LeaveOneOut\n",
    "from sklearn.model_selection import cross_val_score"
   ]
  },
  {
   "cell_type": "code",
   "execution_count": 4,
   "metadata": {},
   "outputs": [],
   "source": [
    "import sys\n",
    "import os\n",
    "sys.path.append(os.path.abspath(os.path.join('../scripts')))"
   ]
  },
  {
   "cell_type": "code",
   "execution_count": 85,
   "metadata": {},
   "outputs": [],
   "source": [
    "from ml import Ml\n",
    "from preprocess import Preprocess\n",
    "from clean_data import CleanData"
   ]
  },
  {
   "cell_type": "code",
   "execution_count": 2,
   "metadata": {},
   "outputs": [],
   "source": [
    "import warnings\n",
    "warnings.filterwarnings('ignore')\n",
    "pd.set_option('max_column', None)\n",
    "df = pd.read_csv('ABtwoCampaignEngView.csv', engine = 'python')"
   ]
  },
  {
   "cell_type": "code",
   "execution_count": 3,
   "metadata": {},
   "outputs": [
    {
     "data": {
      "text/html": [
       "<div>\n",
       "<style scoped>\n",
       "    .dataframe tbody tr th:only-of-type {\n",
       "        vertical-align: middle;\n",
       "    }\n",
       "\n",
       "    .dataframe tbody tr th {\n",
       "        vertical-align: top;\n",
       "    }\n",
       "\n",
       "    .dataframe thead th {\n",
       "        text-align: right;\n",
       "    }\n",
       "</style>\n",
       "<table border=\"1\" class=\"dataframe\">\n",
       "  <thead>\n",
       "    <tr style=\"text-align: right;\">\n",
       "      <th></th>\n",
       "      <th>Unnamed: 0</th>\n",
       "      <th>auction_id</th>\n",
       "      <th>experiment</th>\n",
       "      <th>date</th>\n",
       "      <th>hour</th>\n",
       "      <th>device_make</th>\n",
       "      <th>platform_os</th>\n",
       "      <th>browser</th>\n",
       "      <th>yes</th>\n",
       "      <th>no</th>\n",
       "    </tr>\n",
       "  </thead>\n",
       "  <tbody>\n",
       "    <tr>\n",
       "      <td>0</td>\n",
       "      <td>1333639</td>\n",
       "      <td>8ec30aff-2332-4a1f-9330-b93abb32bc94</td>\n",
       "      <td>control</td>\n",
       "      <td>&lt;built-in method date of Timestamp object at 0...</td>\n",
       "      <td>15</td>\n",
       "      <td>LG</td>\n",
       "      <td>156</td>\n",
       "      <td>6</td>\n",
       "      <td>0.0</td>\n",
       "      <td>0.0</td>\n",
       "    </tr>\n",
       "    <tr>\n",
       "      <td>1</td>\n",
       "      <td>730667</td>\n",
       "      <td>4e1bcb56-357c-4186-9d39-3be82e3519f1</td>\n",
       "      <td>control</td>\n",
       "      <td>&lt;built-in method date of Timestamp object at 0...</td>\n",
       "      <td>7</td>\n",
       "      <td>Samsung</td>\n",
       "      <td>162</td>\n",
       "      <td>6</td>\n",
       "      <td>0.0</td>\n",
       "      <td>0.0</td>\n",
       "    </tr>\n",
       "    <tr>\n",
       "      <td>2</td>\n",
       "      <td>2069787</td>\n",
       "      <td>dd6ec327-fcfd-4a80-89c0-dccd3dd80f09</td>\n",
       "      <td>control</td>\n",
       "      <td>&lt;built-in method date of Timestamp object at 0...</td>\n",
       "      <td>14</td>\n",
       "      <td>Apple</td>\n",
       "      <td>178</td>\n",
       "      <td>15</td>\n",
       "      <td>0.0</td>\n",
       "      <td>0.0</td>\n",
       "    </tr>\n",
       "    <tr>\n",
       "      <td>3</td>\n",
       "      <td>1692366</td>\n",
       "      <td>b5222d0f-39e3-4c02-a12f-1ef09d4f861f</td>\n",
       "      <td>control</td>\n",
       "      <td>&lt;built-in method date of Timestamp object at 0...</td>\n",
       "      <td>22</td>\n",
       "      <td>Apple</td>\n",
       "      <td>167</td>\n",
       "      <td>15</td>\n",
       "      <td>0.0</td>\n",
       "      <td>0.0</td>\n",
       "    </tr>\n",
       "    <tr>\n",
       "      <td>4</td>\n",
       "      <td>1384123</td>\n",
       "      <td>9428377d-1504-4407-87c2-ce518f67eb87</td>\n",
       "      <td>control</td>\n",
       "      <td>&lt;built-in method date of Timestamp object at 0...</td>\n",
       "      <td>21</td>\n",
       "      <td>Samsung</td>\n",
       "      <td>155</td>\n",
       "      <td>15</td>\n",
       "      <td>0.0</td>\n",
       "      <td>0.0</td>\n",
       "    </tr>\n",
       "  </tbody>\n",
       "</table>\n",
       "</div>"
      ],
      "text/plain": [
       "   Unnamed: 0                            auction_id experiment  \\\n",
       "0     1333639  8ec30aff-2332-4a1f-9330-b93abb32bc94    control   \n",
       "1      730667  4e1bcb56-357c-4186-9d39-3be82e3519f1    control   \n",
       "2     2069787  dd6ec327-fcfd-4a80-89c0-dccd3dd80f09    control   \n",
       "3     1692366  b5222d0f-39e3-4c02-a12f-1ef09d4f861f    control   \n",
       "4     1384123  9428377d-1504-4407-87c2-ce518f67eb87    control   \n",
       "\n",
       "                                                date  hour device_make  \\\n",
       "0  <built-in method date of Timestamp object at 0...    15          LG   \n",
       "1  <built-in method date of Timestamp object at 0...     7     Samsung   \n",
       "2  <built-in method date of Timestamp object at 0...    14       Apple   \n",
       "3  <built-in method date of Timestamp object at 0...    22       Apple   \n",
       "4  <built-in method date of Timestamp object at 0...    21     Samsung   \n",
       "\n",
       "   platform_os  browser  yes   no  \n",
       "0          156        6  0.0  0.0  \n",
       "1          162        6  0.0  0.0  \n",
       "2          178       15  0.0  0.0  \n",
       "3          167       15  0.0  0.0  \n",
       "4          155       15  0.0  0.0  "
      ]
     },
     "execution_count": 3,
     "metadata": {},
     "output_type": "execute_result"
    }
   ],
   "source": [
    "df.head()"
   ]
  },
  {
   "cell_type": "code",
   "execution_count": 15,
   "metadata": {},
   "outputs": [
    {
     "name": "stdout",
     "output_type": "stream",
     "text": [
      "Numerical Columns: ['Unnamed: 0', 'hour', 'platform_os', 'browser', 'yes', 'no']\n",
      "****************\n",
      "Categorical Columns: ['auction_id', 'experiment', 'date', 'device_make']\n"
     ]
    }
   ],
   "source": [
    "numerical_column = df.select_dtypes(exclude=\"object\").columns.tolist()\n",
    "categorical_column = df.select_dtypes(include=\"object\").columns.tolist()\n",
    "print(\"Numerical Columns:\", numerical_column)\n",
    "print(\"****************\")\n",
    "print(\"Categorical Columns:\", categorical_column)"
   ]
  },
  {
   "cell_type": "code",
   "execution_count": 18,
   "metadata": {},
   "outputs": [
    {
     "name": "stdout",
     "output_type": "stream",
     "text": [
      "<class 'pandas.core.frame.DataFrame'>\n",
      "RangeIndex: 912712 entries, 0 to 912711\n",
      "Data columns (total 10 columns):\n",
      "Unnamed: 0     912712 non-null int64\n",
      "auction_id     912712 non-null object\n",
      "experiment     912712 non-null object\n",
      "date           912712 non-null object\n",
      "hour           912712 non-null int64\n",
      "device_make    912712 non-null object\n",
      "platform_os    912712 non-null int64\n",
      "browser        912712 non-null int64\n",
      "yes            912712 non-null float64\n",
      "no             912712 non-null float64\n",
      "dtypes: float64(2), int64(4), object(4)\n",
      "memory usage: 69.6+ MB\n"
     ]
    }
   ],
   "source": [
    "df.info()"
   ]
  },
  {
   "cell_type": "code",
   "execution_count": 80,
   "metadata": {},
   "outputs": [],
   "source": [
    "ml = Ml()\n",
    "pre = Preprocess()\n",
    "clean = CleanData()"
   ]
  },
  {
   "cell_type": "code",
   "execution_count": 12,
   "metadata": {},
   "outputs": [
    {
     "data": {
      "text/plain": [
       "Unnamed: 0     0\n",
       "auction_id     0\n",
       "experiment     0\n",
       "date           0\n",
       "hour           0\n",
       "device_make    0\n",
       "platform_os    0\n",
       "browser        0\n",
       "yes            0\n",
       "no             0\n",
       "dtype: int64"
      ]
     },
     "execution_count": 12,
     "metadata": {},
     "output_type": "execute_result"
    }
   ],
   "source": [
    "pre.get_missing_values(df)"
   ]
  },
  {
   "cell_type": "code",
   "execution_count": 24,
   "metadata": {},
   "outputs": [
    {
     "data": {
      "text/plain": [
       "<matplotlib.axes._subplots.AxesSubplot at 0x154eeb68188>"
      ]
     },
     "execution_count": 24,
     "metadata": {},
     "output_type": "execute_result"
    },
    {
     "data": {
      "image/png": "[encoded data removed]",
      "text/plain": [
       "<Figure size 576x288 with 1 Axes>"
      ]
     },
     "metadata": {
      "needs_background": "light"
     },
     "output_type": "display_data"
    }
   ],
   "source": [
    "plt.figure(figsize=(8, 4))\n",
    "sns.countplot(df.yes, hue=df.experiment)"
   ]
  },
  {
   "cell_type": "code",
   "execution_count": 25,
   "metadata": {},
   "outputs": [
    {
     "data": {
      "text/plain": [
       "<matplotlib.axes._subplots.AxesSubplot at 0x154ed8b8688>"
      ]
     },
     "execution_count": 25,
     "metadata": {},
     "output_type": "execute_result"
    },
    {
     "data": {
      "image/png": "[encoded data removed]",
      "text/plain": [
       "<Figure size 432x288 with 1 Axes>"
      ]
     },
     "metadata": {
      "needs_background": "light"
     },
     "output_type": "display_data"
    }
   ],
   "source": [
    "plt.figure(figsize=(6, 4))\n",
    "sns.countplot(df.no, hue=df.experiment)"
   ]
  },
  {
   "cell_type": "code",
   "execution_count": 26,
   "metadata": {},
   "outputs": [
    {
     "data": {
      "text/html": [
       "<div>\n",
       "<style scoped>\n",
       "    .dataframe tbody tr th:only-of-type {\n",
       "        vertical-align: middle;\n",
       "    }\n",
       "\n",
       "    .dataframe tbody tr th {\n",
       "        vertical-align: top;\n",
       "    }\n",
       "\n",
       "    .dataframe thead th {\n",
       "        text-align: right;\n",
       "    }\n",
       "</style>\n",
       "<table border=\"1\" class=\"dataframe\">\n",
       "  <thead>\n",
       "    <tr style=\"text-align: right;\">\n",
       "      <th></th>\n",
       "      <th>Unnamed: 0</th>\n",
       "      <th>hour</th>\n",
       "      <th>platform_os</th>\n",
       "      <th>browser</th>\n",
       "      <th>yes</th>\n",
       "      <th>no</th>\n",
       "    </tr>\n",
       "  </thead>\n",
       "  <tbody>\n",
       "    <tr>\n",
       "      <td>count</td>\n",
       "      <td>9.127120e+05</td>\n",
       "      <td>912712.000000</td>\n",
       "      <td>912712.000000</td>\n",
       "      <td>912712.000000</td>\n",
       "      <td>912712.000000</td>\n",
       "      <td>912712.000000</td>\n",
       "    </tr>\n",
       "    <tr>\n",
       "      <td>mean</td>\n",
       "      <td>1.196268e+06</td>\n",
       "      <td>10.648142</td>\n",
       "      <td>127.813321</td>\n",
       "      <td>8.211051</td>\n",
       "      <td>0.101645</td>\n",
       "      <td>0.019499</td>\n",
       "    </tr>\n",
       "    <tr>\n",
       "      <td>std</td>\n",
       "      <td>6.900511e+05</td>\n",
       "      <td>7.372631</td>\n",
       "      <td>32.217674</td>\n",
       "      <td>3.536780</td>\n",
       "      <td>0.302182</td>\n",
       "      <td>0.138271</td>\n",
       "    </tr>\n",
       "    <tr>\n",
       "      <td>min</td>\n",
       "      <td>1.000000e+00</td>\n",
       "      <td>0.000000</td>\n",
       "      <td>101.000000</td>\n",
       "      <td>1.000000</td>\n",
       "      <td>0.000000</td>\n",
       "      <td>0.000000</td>\n",
       "    </tr>\n",
       "    <tr>\n",
       "      <td>25%</td>\n",
       "      <td>5.989198e+05</td>\n",
       "      <td>4.000000</td>\n",
       "      <td>101.000000</td>\n",
       "      <td>6.000000</td>\n",
       "      <td>0.000000</td>\n",
       "      <td>0.000000</td>\n",
       "    </tr>\n",
       "    <tr>\n",
       "      <td>50%</td>\n",
       "      <td>1.196384e+06</td>\n",
       "      <td>10.000000</td>\n",
       "      <td>101.000000</td>\n",
       "      <td>7.000000</td>\n",
       "      <td>0.000000</td>\n",
       "      <td>0.000000</td>\n",
       "    </tr>\n",
       "    <tr>\n",
       "      <td>75%</td>\n",
       "      <td>1.793652e+06</td>\n",
       "      <td>17.000000</td>\n",
       "      <td>162.000000</td>\n",
       "      <td>7.000000</td>\n",
       "      <td>0.000000</td>\n",
       "      <td>0.000000</td>\n",
       "    </tr>\n",
       "    <tr>\n",
       "      <td>max</td>\n",
       "      <td>2.391777e+06</td>\n",
       "      <td>23.000000</td>\n",
       "      <td>181.000000</td>\n",
       "      <td>15.000000</td>\n",
       "      <td>1.000000</td>\n",
       "      <td>1.000000</td>\n",
       "    </tr>\n",
       "  </tbody>\n",
       "</table>\n",
       "</div>"
      ],
      "text/plain": [
       "         Unnamed: 0           hour    platform_os        browser  \\\n",
       "count  9.127120e+05  912712.000000  912712.000000  912712.000000   \n",
       "mean   1.196268e+06      10.648142     127.813321       8.211051   \n",
       "std    6.900511e+05       7.372631      32.217674       3.536780   \n",
       "min    1.000000e+00       0.000000     101.000000       1.000000   \n",
       "25%    5.989198e+05       4.000000     101.000000       6.000000   \n",
       "50%    1.196384e+06      10.000000     101.000000       7.000000   \n",
       "75%    1.793652e+06      17.000000     162.000000       7.000000   \n",
       "max    2.391777e+06      23.000000     181.000000      15.000000   \n",
       "\n",
       "                 yes             no  \n",
       "count  912712.000000  912712.000000  \n",
       "mean        0.101645       0.019499  \n",
       "std         0.302182       0.138271  \n",
       "min         0.000000       0.000000  \n",
       "25%         0.000000       0.000000  \n",
       "50%         0.000000       0.000000  \n",
       "75%         0.000000       0.000000  \n",
       "max         1.000000       1.000000  "
      ]
     },
     "execution_count": 26,
     "metadata": {},
     "output_type": "execute_result"
    }
   ],
   "source": [
    "df.describe()"
   ]
  },
  {
   "cell_type": "code",
   "execution_count": 27,
   "metadata": {},
   "outputs": [
    {
     "data": {
      "image/png": "[encoded data removed]",
      "text/plain": [
       "<Figure size 2016x864 with 6 Axes>"
      ]
     },
     "metadata": {
      "needs_background": "light"
     },
     "output_type": "display_data"
    }
   ],
   "source": [
    "df.hist(bins=10, figsize=(28,12))\n",
    "plt.show()"
   ]
  },
  {
   "cell_type": "code",
   "execution_count": 29,
   "metadata": {},
   "outputs": [
    {
     "data": {
      "text/plain": [
       "Apple       474242\n",
       "Samsung     285995\n",
       "Google       75269\n",
       "Motorola     26179\n",
       "LG           20368\n",
       "Name: device_make, dtype: int64"
      ]
     },
     "execution_count": 29,
     "metadata": {},
     "output_type": "execute_result"
    }
   ],
   "source": [
    "df['device_make'].value_counts().head()"
   ]
  },
  {
   "cell_type": "code",
   "execution_count": 40,
   "metadata": {},
   "outputs": [
    {
     "data": {
      "text/plain": [
       "<matplotlib.axes._subplots.AxesSubplot at 0x154f65d9488>"
      ]
     },
     "execution_count": 40,
     "metadata": {},
     "output_type": "execute_result"
    },
    {
     "data": {
      "image/png": "[encoded data removed]",
      "text/plain": [
       "<Figure size 576x576 with 1 Axes>"
      ]
     },
     "metadata": {
      "needs_background": "light"
     },
     "output_type": "display_data"
    }
   ],
   "source": [
    "device_make = pd.Series(df['device_make'].value_counts()).head(10)\n",
    "device_make.plot(kind=\"bar\", title=\"top ten device used by customers\", figsize=[8, 8])"
   ]
  },
  {
   "cell_type": "markdown",
   "metadata": {},
   "source": [
    "# the most device_make by people were involoved in the experiment were Apple, Samsung and Google respectiviely "
   ]
  },
  {
   "cell_type": "code",
   "execution_count": 31,
   "metadata": {},
   "outputs": [
    {
     "data": {
      "text/plain": [
       "101    529469\n",
       "162    118039\n",
       "178     77651\n",
       "156     48979\n",
       "155     39381\n",
       "Name: platform_os, dtype: int64"
      ]
     },
     "execution_count": 31,
     "metadata": {},
     "output_type": "execute_result"
    }
   ],
   "source": [
    "df['platform_os'].value_counts().head()"
   ]
  },
  {
   "cell_type": "code",
   "execution_count": 33,
   "metadata": {},
   "outputs": [
    {
     "data": {
      "text/plain": [
       "6     427413\n",
       "7     289305\n",
       "15    191935\n",
       "5       2715\n",
       "12       870\n",
       "Name: browser, dtype: int64"
      ]
     },
     "execution_count": 33,
     "metadata": {},
     "output_type": "execute_result"
    }
   ],
   "source": [
    "df['browser'].value_counts().head()"
   ]
  },
  {
   "cell_type": "code",
   "execution_count": 34,
   "metadata": {},
   "outputs": [
    {
     "data": {
      "text/plain": [
       "(802142, 10)"
      ]
     },
     "execution_count": 34,
     "metadata": {},
     "output_type": "execute_result"
    }
   ],
   "source": [
    "df[(df['yes'] == 0) & (df['no'] == 0)].shape"
   ]
  },
  {
   "cell_type": "markdown",
   "metadata": {},
   "source": [
    "# more than 80% involved in the experiment neither said yes or no"
   ]
  },
  {
   "cell_type": "code",
   "execution_count": 38,
   "metadata": {},
   "outputs": [
    {
     "data": {
      "text/html": [
       "<div>\n",
       "<style scoped>\n",
       "    .dataframe tbody tr th:only-of-type {\n",
       "        vertical-align: middle;\n",
       "    }\n",
       "\n",
       "    .dataframe tbody tr th {\n",
       "        vertical-align: top;\n",
       "    }\n",
       "\n",
       "    .dataframe thead th {\n",
       "        text-align: right;\n",
       "    }\n",
       "</style>\n",
       "<table border=\"1\" class=\"dataframe\">\n",
       "  <thead>\n",
       "    <tr style=\"text-align: right;\">\n",
       "      <th></th>\n",
       "      <th>Unnamed: 0</th>\n",
       "      <th>auction_id</th>\n",
       "      <th>experiment</th>\n",
       "      <th>hour</th>\n",
       "      <th>device_make</th>\n",
       "      <th>platform_os</th>\n",
       "      <th>browser</th>\n",
       "      <th>yes</th>\n",
       "      <th>no</th>\n",
       "    </tr>\n",
       "  </thead>\n",
       "  <tbody>\n",
       "    <tr>\n",
       "      <td>0</td>\n",
       "      <td>1333639</td>\n",
       "      <td>8ec30aff-2332-4a1f-9330-b93abb32bc94</td>\n",
       "      <td>control</td>\n",
       "      <td>15</td>\n",
       "      <td>LG</td>\n",
       "      <td>156</td>\n",
       "      <td>6</td>\n",
       "      <td>0.0</td>\n",
       "      <td>0.0</td>\n",
       "    </tr>\n",
       "    <tr>\n",
       "      <td>1</td>\n",
       "      <td>730667</td>\n",
       "      <td>4e1bcb56-357c-4186-9d39-3be82e3519f1</td>\n",
       "      <td>control</td>\n",
       "      <td>7</td>\n",
       "      <td>Samsung</td>\n",
       "      <td>162</td>\n",
       "      <td>6</td>\n",
       "      <td>0.0</td>\n",
       "      <td>0.0</td>\n",
       "    </tr>\n",
       "    <tr>\n",
       "      <td>2</td>\n",
       "      <td>2069787</td>\n",
       "      <td>dd6ec327-fcfd-4a80-89c0-dccd3dd80f09</td>\n",
       "      <td>control</td>\n",
       "      <td>14</td>\n",
       "      <td>Apple</td>\n",
       "      <td>178</td>\n",
       "      <td>15</td>\n",
       "      <td>0.0</td>\n",
       "      <td>0.0</td>\n",
       "    </tr>\n",
       "    <tr>\n",
       "      <td>3</td>\n",
       "      <td>1692366</td>\n",
       "      <td>b5222d0f-39e3-4c02-a12f-1ef09d4f861f</td>\n",
       "      <td>control</td>\n",
       "      <td>22</td>\n",
       "      <td>Apple</td>\n",
       "      <td>167</td>\n",
       "      <td>15</td>\n",
       "      <td>0.0</td>\n",
       "      <td>0.0</td>\n",
       "    </tr>\n",
       "    <tr>\n",
       "      <td>4</td>\n",
       "      <td>1384123</td>\n",
       "      <td>9428377d-1504-4407-87c2-ce518f67eb87</td>\n",
       "      <td>control</td>\n",
       "      <td>21</td>\n",
       "      <td>Samsung</td>\n",
       "      <td>155</td>\n",
       "      <td>15</td>\n",
       "      <td>0.0</td>\n",
       "      <td>0.0</td>\n",
       "    </tr>\n",
       "    <tr>\n",
       "      <td>...</td>\n",
       "      <td>...</td>\n",
       "      <td>...</td>\n",
       "      <td>...</td>\n",
       "      <td>...</td>\n",
       "      <td>...</td>\n",
       "      <td>...</td>\n",
       "      <td>...</td>\n",
       "      <td>...</td>\n",
       "      <td>...</td>\n",
       "    </tr>\n",
       "    <tr>\n",
       "      <td>912707</td>\n",
       "      <td>1426994</td>\n",
       "      <td>98c10ba3-932f-4feb-ad01-d1b549dbd905</td>\n",
       "      <td>exposed</td>\n",
       "      <td>14</td>\n",
       "      <td>Samsung</td>\n",
       "      <td>162</td>\n",
       "      <td>15</td>\n",
       "      <td>0.0</td>\n",
       "      <td>1.0</td>\n",
       "    </tr>\n",
       "    <tr>\n",
       "      <td>912708</td>\n",
       "      <td>1846194</td>\n",
       "      <td>c591dcc1-2526-4caa-8561-0f9da1fe565b</td>\n",
       "      <td>exposed</td>\n",
       "      <td>8</td>\n",
       "      <td>Samsung</td>\n",
       "      <td>162</td>\n",
       "      <td>15</td>\n",
       "      <td>0.0</td>\n",
       "      <td>0.0</td>\n",
       "    </tr>\n",
       "    <tr>\n",
       "      <td>912709</td>\n",
       "      <td>2133458</td>\n",
       "      <td>e44046fa-0d3e-4680-99a8-f8d2167890f4</td>\n",
       "      <td>exposed</td>\n",
       "      <td>5</td>\n",
       "      <td>Apple</td>\n",
       "      <td>101</td>\n",
       "      <td>7</td>\n",
       "      <td>0.0</td>\n",
       "      <td>0.0</td>\n",
       "    </tr>\n",
       "    <tr>\n",
       "      <td>912710</td>\n",
       "      <td>1815799</td>\n",
       "      <td>c25657c2-f1b6-4f50-9610-9f3bbef2594d</td>\n",
       "      <td>exposed</td>\n",
       "      <td>14</td>\n",
       "      <td>Samsung</td>\n",
       "      <td>101</td>\n",
       "      <td>6</td>\n",
       "      <td>1.0</td>\n",
       "      <td>0.0</td>\n",
       "    </tr>\n",
       "    <tr>\n",
       "      <td>912711</td>\n",
       "      <td>213933</td>\n",
       "      <td>16d54193-0661-4f2b-af10-f2ec88a73b59</td>\n",
       "      <td>exposed</td>\n",
       "      <td>21</td>\n",
       "      <td>Samsung</td>\n",
       "      <td>101</td>\n",
       "      <td>15</td>\n",
       "      <td>0.0</td>\n",
       "      <td>0.0</td>\n",
       "    </tr>\n",
       "  </tbody>\n",
       "</table>\n",
       "<p>912712 rows × 9 columns</p>\n",
       "</div>"
      ],
      "text/plain": [
       "        Unnamed: 0                            auction_id experiment  hour  \\\n",
       "0          1333639  8ec30aff-2332-4a1f-9330-b93abb32bc94    control    15   \n",
       "1           730667  4e1bcb56-357c-4186-9d39-3be82e3519f1    control     7   \n",
       "2          2069787  dd6ec327-fcfd-4a80-89c0-dccd3dd80f09    control    14   \n",
       "3          1692366  b5222d0f-39e3-4c02-a12f-1ef09d4f861f    control    22   \n",
       "4          1384123  9428377d-1504-4407-87c2-ce518f67eb87    control    21   \n",
       "...            ...                                   ...        ...   ...   \n",
       "912707     1426994  98c10ba3-932f-4feb-ad01-d1b549dbd905    exposed    14   \n",
       "912708     1846194  c591dcc1-2526-4caa-8561-0f9da1fe565b    exposed     8   \n",
       "912709     2133458  e44046fa-0d3e-4680-99a8-f8d2167890f4    exposed     5   \n",
       "912710     1815799  c25657c2-f1b6-4f50-9610-9f3bbef2594d    exposed    14   \n",
       "912711      213933  16d54193-0661-4f2b-af10-f2ec88a73b59    exposed    21   \n",
       "\n",
       "       device_make  platform_os  browser  yes   no  \n",
       "0               LG          156        6  0.0  0.0  \n",
       "1          Samsung          162        6  0.0  0.0  \n",
       "2            Apple          178       15  0.0  0.0  \n",
       "3            Apple          167       15  0.0  0.0  \n",
       "4          Samsung          155       15  0.0  0.0  \n",
       "...            ...          ...      ...  ...  ...  \n",
       "912707     Samsung          162       15  0.0  1.0  \n",
       "912708     Samsung          162       15  0.0  0.0  \n",
       "912709       Apple          101        7  0.0  0.0  \n",
       "912710     Samsung          101        6  1.0  0.0  \n",
       "912711     Samsung          101       15  0.0  0.0  \n",
       "\n",
       "[912712 rows x 9 columns]"
      ]
     },
     "execution_count": 38,
     "metadata": {},
     "output_type": "execute_result"
    }
   ],
   "source": [
    "df = df.drop('date', axis = 1)\n",
    "df"
   ]
  },
  {
   "cell_type": "code",
   "execution_count": 39,
   "metadata": {},
   "outputs": [
    {
     "data": {
      "text/plain": [
       "control    456356\n",
       "exposed    456356\n",
       "Name: experiment, dtype: int64"
      ]
     },
     "execution_count": 39,
     "metadata": {},
     "output_type": "execute_result"
    }
   ],
   "source": [
    "pd.Series(df['experiment'].value_counts())"
   ]
  },
  {
   "cell_type": "code",
   "execution_count": 42,
   "metadata": {},
   "outputs": [
    {
     "data": {
      "image/png": "[encoded data removed]",
      "text/plain": [
       "<Figure size 720x504 with 1 Axes>"
      ]
     },
     "metadata": {
      "needs_background": "light"
     },
     "output_type": "display_data"
    }
   ],
   "source": [
    "yes_no_agg = df.groupby('experiment').agg({'yes': 'sum', 'no': 'sum'})\n",
    "ax = yes_no_agg.plot.bar( y=['yes', 'no'],  title=\"The number of yes and no answers per experiment\",\n",
    "                          rot=0, figsize=(10,7))"
   ]
  },
  {
   "cell_type": "markdown",
   "metadata": {},
   "source": [
    "# the number of 'yes' for the exposed group is 8 times more than the control group "
   ]
  },
  {
   "cell_type": "code",
   "execution_count": 56,
   "metadata": {},
   "outputs": [],
   "source": [
    "relevant_rows = df.query('yes == 1 | no == 1')\n",
    "#changing the targeted colums into 1 col\n",
    "df2 = relevant_rows.drop('no', axis=1)"
   ]
  },
  {
   "cell_type": "code",
   "execution_count": 57,
   "metadata": {},
   "outputs": [
    {
     "data": {
      "text/html": [
       "<div>\n",
       "<style scoped>\n",
       "    .dataframe tbody tr th:only-of-type {\n",
       "        vertical-align: middle;\n",
       "    }\n",
       "\n",
       "    .dataframe tbody tr th {\n",
       "        vertical-align: top;\n",
       "    }\n",
       "\n",
       "    .dataframe thead th {\n",
       "        text-align: right;\n",
       "    }\n",
       "</style>\n",
       "<table border=\"1\" class=\"dataframe\">\n",
       "  <thead>\n",
       "    <tr style=\"text-align: right;\">\n",
       "      <th></th>\n",
       "      <th>Unnamed: 0</th>\n",
       "      <th>auction_id</th>\n",
       "      <th>experiment</th>\n",
       "      <th>hour</th>\n",
       "      <th>device_make</th>\n",
       "      <th>platform_os</th>\n",
       "      <th>browser</th>\n",
       "      <th>brand_awarness</th>\n",
       "    </tr>\n",
       "  </thead>\n",
       "  <tbody>\n",
       "    <tr>\n",
       "      <td>80</td>\n",
       "      <td>2201667</td>\n",
       "      <td>eb941471-f485-4516-b4d3-648e7838d53a</td>\n",
       "      <td>control</td>\n",
       "      <td>15</td>\n",
       "      <td>Apple</td>\n",
       "      <td>101</td>\n",
       "      <td>15</td>\n",
       "      <td>1.0</td>\n",
       "    </tr>\n",
       "    <tr>\n",
       "      <td>84</td>\n",
       "      <td>917467</td>\n",
       "      <td>622af8e2-7bcf-4681-a921-442e1f8378f1</td>\n",
       "      <td>control</td>\n",
       "      <td>6</td>\n",
       "      <td>Apple</td>\n",
       "      <td>101</td>\n",
       "      <td>5</td>\n",
       "      <td>1.0</td>\n",
       "    </tr>\n",
       "    <tr>\n",
       "      <td>103</td>\n",
       "      <td>809779</td>\n",
       "      <td>56a03982-6278-4083-9554-3a069dbc22c8</td>\n",
       "      <td>control</td>\n",
       "      <td>20</td>\n",
       "      <td>Samsung</td>\n",
       "      <td>162</td>\n",
       "      <td>6</td>\n",
       "      <td>1.0</td>\n",
       "    </tr>\n",
       "    <tr>\n",
       "      <td>180</td>\n",
       "      <td>105739</td>\n",
       "      <td>0b4b114a-7be3-435e-beb5-76cbd29ae329</td>\n",
       "      <td>control</td>\n",
       "      <td>8</td>\n",
       "      <td>Apple</td>\n",
       "      <td>101</td>\n",
       "      <td>15</td>\n",
       "      <td>0.0</td>\n",
       "    </tr>\n",
       "    <tr>\n",
       "      <td>209</td>\n",
       "      <td>365586</td>\n",
       "      <td>2711e2f3-a624-4243-800e-693a888bc394</td>\n",
       "      <td>control</td>\n",
       "      <td>3</td>\n",
       "      <td>Samsung</td>\n",
       "      <td>162</td>\n",
       "      <td>6</td>\n",
       "      <td>1.0</td>\n",
       "    </tr>\n",
       "    <tr>\n",
       "      <td>...</td>\n",
       "      <td>...</td>\n",
       "      <td>...</td>\n",
       "      <td>...</td>\n",
       "      <td>...</td>\n",
       "      <td>...</td>\n",
       "      <td>...</td>\n",
       "      <td>...</td>\n",
       "      <td>...</td>\n",
       "    </tr>\n",
       "    <tr>\n",
       "      <td>912689</td>\n",
       "      <td>179354</td>\n",
       "      <td>13225de7-c02c-4b14-ad98-e9edf334054b</td>\n",
       "      <td>exposed</td>\n",
       "      <td>23</td>\n",
       "      <td>Apple</td>\n",
       "      <td>178</td>\n",
       "      <td>7</td>\n",
       "      <td>0.0</td>\n",
       "    </tr>\n",
       "    <tr>\n",
       "      <td>912698</td>\n",
       "      <td>1471812</td>\n",
       "      <td>9d89a204-2c70-465d-b59c-bc13adc855a5</td>\n",
       "      <td>exposed</td>\n",
       "      <td>14</td>\n",
       "      <td>Samsung</td>\n",
       "      <td>101</td>\n",
       "      <td>6</td>\n",
       "      <td>1.0</td>\n",
       "    </tr>\n",
       "    <tr>\n",
       "      <td>912706</td>\n",
       "      <td>664223</td>\n",
       "      <td>46f508f0-4fd5-4cf8-8f80-49ae3d2d27d1</td>\n",
       "      <td>exposed</td>\n",
       "      <td>3</td>\n",
       "      <td>Samsung</td>\n",
       "      <td>101</td>\n",
       "      <td>6</td>\n",
       "      <td>1.0</td>\n",
       "    </tr>\n",
       "    <tr>\n",
       "      <td>912707</td>\n",
       "      <td>1426994</td>\n",
       "      <td>98c10ba3-932f-4feb-ad01-d1b549dbd905</td>\n",
       "      <td>exposed</td>\n",
       "      <td>14</td>\n",
       "      <td>Samsung</td>\n",
       "      <td>162</td>\n",
       "      <td>15</td>\n",
       "      <td>0.0</td>\n",
       "    </tr>\n",
       "    <tr>\n",
       "      <td>912710</td>\n",
       "      <td>1815799</td>\n",
       "      <td>c25657c2-f1b6-4f50-9610-9f3bbef2594d</td>\n",
       "      <td>exposed</td>\n",
       "      <td>14</td>\n",
       "      <td>Samsung</td>\n",
       "      <td>101</td>\n",
       "      <td>6</td>\n",
       "      <td>1.0</td>\n",
       "    </tr>\n",
       "  </tbody>\n",
       "</table>\n",
       "<p>110570 rows × 8 columns</p>\n",
       "</div>"
      ],
      "text/plain": [
       "        Unnamed: 0                            auction_id experiment  hour  \\\n",
       "80         2201667  eb941471-f485-4516-b4d3-648e7838d53a    control    15   \n",
       "84          917467  622af8e2-7bcf-4681-a921-442e1f8378f1    control     6   \n",
       "103         809779  56a03982-6278-4083-9554-3a069dbc22c8    control    20   \n",
       "180         105739  0b4b114a-7be3-435e-beb5-76cbd29ae329    control     8   \n",
       "209         365586  2711e2f3-a624-4243-800e-693a888bc394    control     3   \n",
       "...            ...                                   ...        ...   ...   \n",
       "912689      179354  13225de7-c02c-4b14-ad98-e9edf334054b    exposed    23   \n",
       "912698     1471812  9d89a204-2c70-465d-b59c-bc13adc855a5    exposed    14   \n",
       "912706      664223  46f508f0-4fd5-4cf8-8f80-49ae3d2d27d1    exposed     3   \n",
       "912707     1426994  98c10ba3-932f-4feb-ad01-d1b549dbd905    exposed    14   \n",
       "912710     1815799  c25657c2-f1b6-4f50-9610-9f3bbef2594d    exposed    14   \n",
       "\n",
       "       device_make  platform_os  browser  brand_awarness  \n",
       "80           Apple          101       15             1.0  \n",
       "84           Apple          101        5             1.0  \n",
       "103        Samsung          162        6             1.0  \n",
       "180          Apple          101       15             0.0  \n",
       "209        Samsung          162        6             1.0  \n",
       "...            ...          ...      ...             ...  \n",
       "912689       Apple          178        7             0.0  \n",
       "912698     Samsung          101        6             1.0  \n",
       "912706     Samsung          101        6             1.0  \n",
       "912707     Samsung          162       15             0.0  \n",
       "912710     Samsung          101        6             1.0  \n",
       "\n",
       "[110570 rows x 8 columns]"
      ]
     },
     "execution_count": 57,
     "metadata": {},
     "output_type": "execute_result"
    }
   ],
   "source": [
    "#renaming col because 0 means no and 1 means yes\n",
    "df2.rename(columns = {'yes': 'brand_awarness'}, inplace=True)\n",
    "df2"
   ]
  },
  {
   "cell_type": "code",
   "execution_count": 62,
   "metadata": {},
   "outputs": [
    {
     "data": {
      "text/html": [
       "<div>\n",
       "<style scoped>\n",
       "    .dataframe tbody tr th:only-of-type {\n",
       "        vertical-align: middle;\n",
       "    }\n",
       "\n",
       "    .dataframe tbody tr th {\n",
       "        vertical-align: top;\n",
       "    }\n",
       "\n",
       "    .dataframe thead th {\n",
       "        text-align: right;\n",
       "    }\n",
       "</style>\n",
       "<table border=\"1\" class=\"dataframe\">\n",
       "  <thead>\n",
       "    <tr style=\"text-align: right;\">\n",
       "      <th></th>\n",
       "      <th>hour</th>\n",
       "      <th>device_make</th>\n",
       "      <th>platform_os</th>\n",
       "      <th>browser</th>\n",
       "      <th>brand_awarness</th>\n",
       "      <th>control</th>\n",
       "      <th>exposed</th>\n",
       "    </tr>\n",
       "  </thead>\n",
       "  <tbody>\n",
       "    <tr>\n",
       "      <td>80</td>\n",
       "      <td>15</td>\n",
       "      <td>Apple</td>\n",
       "      <td>101</td>\n",
       "      <td>15</td>\n",
       "      <td>1.0</td>\n",
       "      <td>1</td>\n",
       "      <td>0</td>\n",
       "    </tr>\n",
       "    <tr>\n",
       "      <td>84</td>\n",
       "      <td>6</td>\n",
       "      <td>Apple</td>\n",
       "      <td>101</td>\n",
       "      <td>5</td>\n",
       "      <td>1.0</td>\n",
       "      <td>1</td>\n",
       "      <td>0</td>\n",
       "    </tr>\n",
       "    <tr>\n",
       "      <td>103</td>\n",
       "      <td>20</td>\n",
       "      <td>Samsung</td>\n",
       "      <td>162</td>\n",
       "      <td>6</td>\n",
       "      <td>1.0</td>\n",
       "      <td>1</td>\n",
       "      <td>0</td>\n",
       "    </tr>\n",
       "    <tr>\n",
       "      <td>180</td>\n",
       "      <td>8</td>\n",
       "      <td>Apple</td>\n",
       "      <td>101</td>\n",
       "      <td>15</td>\n",
       "      <td>0.0</td>\n",
       "      <td>1</td>\n",
       "      <td>0</td>\n",
       "    </tr>\n",
       "    <tr>\n",
       "      <td>209</td>\n",
       "      <td>3</td>\n",
       "      <td>Samsung</td>\n",
       "      <td>162</td>\n",
       "      <td>6</td>\n",
       "      <td>1.0</td>\n",
       "      <td>1</td>\n",
       "      <td>0</td>\n",
       "    </tr>\n",
       "    <tr>\n",
       "      <td>...</td>\n",
       "      <td>...</td>\n",
       "      <td>...</td>\n",
       "      <td>...</td>\n",
       "      <td>...</td>\n",
       "      <td>...</td>\n",
       "      <td>...</td>\n",
       "      <td>...</td>\n",
       "    </tr>\n",
       "    <tr>\n",
       "      <td>912689</td>\n",
       "      <td>23</td>\n",
       "      <td>Apple</td>\n",
       "      <td>178</td>\n",
       "      <td>7</td>\n",
       "      <td>0.0</td>\n",
       "      <td>0</td>\n",
       "      <td>1</td>\n",
       "    </tr>\n",
       "    <tr>\n",
       "      <td>912698</td>\n",
       "      <td>14</td>\n",
       "      <td>Samsung</td>\n",
       "      <td>101</td>\n",
       "      <td>6</td>\n",
       "      <td>1.0</td>\n",
       "      <td>0</td>\n",
       "      <td>1</td>\n",
       "    </tr>\n",
       "    <tr>\n",
       "      <td>912706</td>\n",
       "      <td>3</td>\n",
       "      <td>Samsung</td>\n",
       "      <td>101</td>\n",
       "      <td>6</td>\n",
       "      <td>1.0</td>\n",
       "      <td>0</td>\n",
       "      <td>1</td>\n",
       "    </tr>\n",
       "    <tr>\n",
       "      <td>912707</td>\n",
       "      <td>14</td>\n",
       "      <td>Samsung</td>\n",
       "      <td>162</td>\n",
       "      <td>15</td>\n",
       "      <td>0.0</td>\n",
       "      <td>0</td>\n",
       "      <td>1</td>\n",
       "    </tr>\n",
       "    <tr>\n",
       "      <td>912710</td>\n",
       "      <td>14</td>\n",
       "      <td>Samsung</td>\n",
       "      <td>101</td>\n",
       "      <td>6</td>\n",
       "      <td>1.0</td>\n",
       "      <td>0</td>\n",
       "      <td>1</td>\n",
       "    </tr>\n",
       "  </tbody>\n",
       "</table>\n",
       "<p>110570 rows × 7 columns</p>\n",
       "</div>"
      ],
      "text/plain": [
       "        hour device_make  platform_os  browser  brand_awarness  control  \\\n",
       "80        15       Apple          101       15             1.0        1   \n",
       "84         6       Apple          101        5             1.0        1   \n",
       "103       20     Samsung          162        6             1.0        1   \n",
       "180        8       Apple          101       15             0.0        1   \n",
       "209        3     Samsung          162        6             1.0        1   \n",
       "...      ...         ...          ...      ...             ...      ...   \n",
       "912689    23       Apple          178        7             0.0        0   \n",
       "912698    14     Samsung          101        6             1.0        0   \n",
       "912706     3     Samsung          101        6             1.0        0   \n",
       "912707    14     Samsung          162       15             0.0        0   \n",
       "912710    14     Samsung          101        6             1.0        0   \n",
       "\n",
       "        exposed  \n",
       "80            0  \n",
       "84            0  \n",
       "103           0  \n",
       "180           0  \n",
       "209           0  \n",
       "...         ...  \n",
       "912689        1  \n",
       "912698        1  \n",
       "912706        1  \n",
       "912707        1  \n",
       "912710        1  \n",
       "\n",
       "[110570 rows x 7 columns]"
      ]
     },
     "execution_count": 62,
     "metadata": {},
     "output_type": "execute_result"
    }
   ],
   "source": [
    "df2.drop('auction_id', axis = 1, inplace=True)\n",
    "# df2.drop('Unnamed: 0', axis = 1, inplace=True)\n",
    "df2"
   ]
  },
  {
   "cell_type": "code",
   "execution_count": 59,
   "metadata": {},
   "outputs": [
    {
     "data": {
      "text/html": [
       "<div>\n",
       "<style scoped>\n",
       "    .dataframe tbody tr th:only-of-type {\n",
       "        vertical-align: middle;\n",
       "    }\n",
       "\n",
       "    .dataframe tbody tr th {\n",
       "        vertical-align: top;\n",
       "    }\n",
       "\n",
       "    .dataframe thead th {\n",
       "        text-align: right;\n",
       "    }\n",
       "</style>\n",
       "<table border=\"1\" class=\"dataframe\">\n",
       "  <thead>\n",
       "    <tr style=\"text-align: right;\">\n",
       "      <th></th>\n",
       "      <th>auction_id</th>\n",
       "      <th>hour</th>\n",
       "      <th>device_make</th>\n",
       "      <th>platform_os</th>\n",
       "      <th>browser</th>\n",
       "      <th>brand_awarness</th>\n",
       "      <th>control</th>\n",
       "      <th>exposed</th>\n",
       "    </tr>\n",
       "  </thead>\n",
       "  <tbody>\n",
       "    <tr>\n",
       "      <td>80</td>\n",
       "      <td>eb941471-f485-4516-b4d3-648e7838d53a</td>\n",
       "      <td>15</td>\n",
       "      <td>Apple</td>\n",
       "      <td>101</td>\n",
       "      <td>15</td>\n",
       "      <td>1.0</td>\n",
       "      <td>1</td>\n",
       "      <td>0</td>\n",
       "    </tr>\n",
       "    <tr>\n",
       "      <td>84</td>\n",
       "      <td>622af8e2-7bcf-4681-a921-442e1f8378f1</td>\n",
       "      <td>6</td>\n",
       "      <td>Apple</td>\n",
       "      <td>101</td>\n",
       "      <td>5</td>\n",
       "      <td>1.0</td>\n",
       "      <td>1</td>\n",
       "      <td>0</td>\n",
       "    </tr>\n",
       "    <tr>\n",
       "      <td>103</td>\n",
       "      <td>56a03982-6278-4083-9554-3a069dbc22c8</td>\n",
       "      <td>20</td>\n",
       "      <td>Samsung</td>\n",
       "      <td>162</td>\n",
       "      <td>6</td>\n",
       "      <td>1.0</td>\n",
       "      <td>1</td>\n",
       "      <td>0</td>\n",
       "    </tr>\n",
       "    <tr>\n",
       "      <td>180</td>\n",
       "      <td>0b4b114a-7be3-435e-beb5-76cbd29ae329</td>\n",
       "      <td>8</td>\n",
       "      <td>Apple</td>\n",
       "      <td>101</td>\n",
       "      <td>15</td>\n",
       "      <td>0.0</td>\n",
       "      <td>1</td>\n",
       "      <td>0</td>\n",
       "    </tr>\n",
       "    <tr>\n",
       "      <td>209</td>\n",
       "      <td>2711e2f3-a624-4243-800e-693a888bc394</td>\n",
       "      <td>3</td>\n",
       "      <td>Samsung</td>\n",
       "      <td>162</td>\n",
       "      <td>6</td>\n",
       "      <td>1.0</td>\n",
       "      <td>1</td>\n",
       "      <td>0</td>\n",
       "    </tr>\n",
       "    <tr>\n",
       "      <td>...</td>\n",
       "      <td>...</td>\n",
       "      <td>...</td>\n",
       "      <td>...</td>\n",
       "      <td>...</td>\n",
       "      <td>...</td>\n",
       "      <td>...</td>\n",
       "      <td>...</td>\n",
       "      <td>...</td>\n",
       "    </tr>\n",
       "    <tr>\n",
       "      <td>912689</td>\n",
       "      <td>13225de7-c02c-4b14-ad98-e9edf334054b</td>\n",
       "      <td>23</td>\n",
       "      <td>Apple</td>\n",
       "      <td>178</td>\n",
       "      <td>7</td>\n",
       "      <td>0.0</td>\n",
       "      <td>0</td>\n",
       "      <td>1</td>\n",
       "    </tr>\n",
       "    <tr>\n",
       "      <td>912698</td>\n",
       "      <td>9d89a204-2c70-465d-b59c-bc13adc855a5</td>\n",
       "      <td>14</td>\n",
       "      <td>Samsung</td>\n",
       "      <td>101</td>\n",
       "      <td>6</td>\n",
       "      <td>1.0</td>\n",
       "      <td>0</td>\n",
       "      <td>1</td>\n",
       "    </tr>\n",
       "    <tr>\n",
       "      <td>912706</td>\n",
       "      <td>46f508f0-4fd5-4cf8-8f80-49ae3d2d27d1</td>\n",
       "      <td>3</td>\n",
       "      <td>Samsung</td>\n",
       "      <td>101</td>\n",
       "      <td>6</td>\n",
       "      <td>1.0</td>\n",
       "      <td>0</td>\n",
       "      <td>1</td>\n",
       "    </tr>\n",
       "    <tr>\n",
       "      <td>912707</td>\n",
       "      <td>98c10ba3-932f-4feb-ad01-d1b549dbd905</td>\n",
       "      <td>14</td>\n",
       "      <td>Samsung</td>\n",
       "      <td>162</td>\n",
       "      <td>15</td>\n",
       "      <td>0.0</td>\n",
       "      <td>0</td>\n",
       "      <td>1</td>\n",
       "    </tr>\n",
       "    <tr>\n",
       "      <td>912710</td>\n",
       "      <td>c25657c2-f1b6-4f50-9610-9f3bbef2594d</td>\n",
       "      <td>14</td>\n",
       "      <td>Samsung</td>\n",
       "      <td>101</td>\n",
       "      <td>6</td>\n",
       "      <td>1.0</td>\n",
       "      <td>0</td>\n",
       "      <td>1</td>\n",
       "    </tr>\n",
       "  </tbody>\n",
       "</table>\n",
       "<p>110570 rows × 8 columns</p>\n",
       "</div>"
      ],
      "text/plain": [
       "                                  auction_id  hour device_make  platform_os  \\\n",
       "80      eb941471-f485-4516-b4d3-648e7838d53a    15       Apple          101   \n",
       "84      622af8e2-7bcf-4681-a921-442e1f8378f1     6       Apple          101   \n",
       "103     56a03982-6278-4083-9554-3a069dbc22c8    20     Samsung          162   \n",
       "180     0b4b114a-7be3-435e-beb5-76cbd29ae329     8       Apple          101   \n",
       "209     2711e2f3-a624-4243-800e-693a888bc394     3     Samsung          162   \n",
       "...                                      ...   ...         ...          ...   \n",
       "912689  13225de7-c02c-4b14-ad98-e9edf334054b    23       Apple          178   \n",
       "912698  9d89a204-2c70-465d-b59c-bc13adc855a5    14     Samsung          101   \n",
       "912706  46f508f0-4fd5-4cf8-8f80-49ae3d2d27d1     3     Samsung          101   \n",
       "912707  98c10ba3-932f-4feb-ad01-d1b549dbd905    14     Samsung          162   \n",
       "912710  c25657c2-f1b6-4f50-9610-9f3bbef2594d    14     Samsung          101   \n",
       "\n",
       "        browser  brand_awarness  control  exposed  \n",
       "80           15             1.0        1        0  \n",
       "84            5             1.0        1        0  \n",
       "103           6             1.0        1        0  \n",
       "180          15             0.0        1        0  \n",
       "209           6             1.0        1        0  \n",
       "...         ...             ...      ...      ...  \n",
       "912689        7             0.0        0        1  \n",
       "912698        6             1.0        0        1  \n",
       "912706        6             1.0        0        1  \n",
       "912707       15             0.0        0        1  \n",
       "912710        6             1.0        0        1  \n",
       "\n",
       "[110570 rows x 8 columns]"
      ]
     },
     "execution_count": 59,
     "metadata": {},
     "output_type": "execute_result"
    }
   ],
   "source": [
    "# Get one hot encoding of columns B\n",
    "one_hot = pd.get_dummies(df2['experiment'])\n",
    "# Drop column B as it is now encoded\n",
    "df2 = df2.drop('experiment',axis = 1)\n",
    "# Join the encoded df\n",
    "df2 = df2.join(one_hot)\n",
    "df2 "
   ]
  },
  {
   "cell_type": "code",
   "execution_count": 61,
   "metadata": {},
   "outputs": [
    {
     "data": {
      "text/plain": [
       "Unnamed: 0     0\n",
       "auction_id     0\n",
       "experiment     0\n",
       "hour           0\n",
       "device_make    0\n",
       "platform_os    0\n",
       "browser        0\n",
       "yes            0\n",
       "no             0\n",
       "dtype: int64"
      ]
     },
     "execution_count": 61,
     "metadata": {},
     "output_type": "execute_result"
    }
   ],
   "source": [
    "pre.get_missing_values(df)"
   ]
  },
  {
   "cell_type": "code",
   "execution_count": 63,
   "metadata": {},
   "outputs": [],
   "source": [
    "le = LabelEncoder()\n",
    "df2['device_make'] = le.fit_transform(df2['device_make']) "
   ]
  },
  {
   "cell_type": "code",
   "execution_count": 64,
   "metadata": {},
   "outputs": [
    {
     "data": {
      "text/html": [
       "<div>\n",
       "<style scoped>\n",
       "    .dataframe tbody tr th:only-of-type {\n",
       "        vertical-align: middle;\n",
       "    }\n",
       "\n",
       "    .dataframe tbody tr th {\n",
       "        vertical-align: top;\n",
       "    }\n",
       "\n",
       "    .dataframe thead th {\n",
       "        text-align: right;\n",
       "    }\n",
       "</style>\n",
       "<table border=\"1\" class=\"dataframe\">\n",
       "  <thead>\n",
       "    <tr style=\"text-align: right;\">\n",
       "      <th></th>\n",
       "      <th>hour</th>\n",
       "      <th>device_make</th>\n",
       "      <th>platform_os</th>\n",
       "      <th>browser</th>\n",
       "      <th>brand_awarness</th>\n",
       "      <th>control</th>\n",
       "      <th>exposed</th>\n",
       "    </tr>\n",
       "  </thead>\n",
       "  <tbody>\n",
       "    <tr>\n",
       "      <td>80</td>\n",
       "      <td>15</td>\n",
       "      <td>7</td>\n",
       "      <td>101</td>\n",
       "      <td>15</td>\n",
       "      <td>1.0</td>\n",
       "      <td>1</td>\n",
       "      <td>0</td>\n",
       "    </tr>\n",
       "    <tr>\n",
       "      <td>84</td>\n",
       "      <td>6</td>\n",
       "      <td>7</td>\n",
       "      <td>101</td>\n",
       "      <td>5</td>\n",
       "      <td>1.0</td>\n",
       "      <td>1</td>\n",
       "      <td>0</td>\n",
       "    </tr>\n",
       "    <tr>\n",
       "      <td>103</td>\n",
       "      <td>20</td>\n",
       "      <td>60</td>\n",
       "      <td>162</td>\n",
       "      <td>6</td>\n",
       "      <td>1.0</td>\n",
       "      <td>1</td>\n",
       "      <td>0</td>\n",
       "    </tr>\n",
       "    <tr>\n",
       "      <td>180</td>\n",
       "      <td>8</td>\n",
       "      <td>7</td>\n",
       "      <td>101</td>\n",
       "      <td>15</td>\n",
       "      <td>0.0</td>\n",
       "      <td>1</td>\n",
       "      <td>0</td>\n",
       "    </tr>\n",
       "    <tr>\n",
       "      <td>209</td>\n",
       "      <td>3</td>\n",
       "      <td>60</td>\n",
       "      <td>162</td>\n",
       "      <td>6</td>\n",
       "      <td>1.0</td>\n",
       "      <td>1</td>\n",
       "      <td>0</td>\n",
       "    </tr>\n",
       "    <tr>\n",
       "      <td>...</td>\n",
       "      <td>...</td>\n",
       "      <td>...</td>\n",
       "      <td>...</td>\n",
       "      <td>...</td>\n",
       "      <td>...</td>\n",
       "      <td>...</td>\n",
       "      <td>...</td>\n",
       "    </tr>\n",
       "    <tr>\n",
       "      <td>912689</td>\n",
       "      <td>23</td>\n",
       "      <td>7</td>\n",
       "      <td>178</td>\n",
       "      <td>7</td>\n",
       "      <td>0.0</td>\n",
       "      <td>0</td>\n",
       "      <td>1</td>\n",
       "    </tr>\n",
       "    <tr>\n",
       "      <td>912698</td>\n",
       "      <td>14</td>\n",
       "      <td>60</td>\n",
       "      <td>101</td>\n",
       "      <td>6</td>\n",
       "      <td>1.0</td>\n",
       "      <td>0</td>\n",
       "      <td>1</td>\n",
       "    </tr>\n",
       "    <tr>\n",
       "      <td>912706</td>\n",
       "      <td>3</td>\n",
       "      <td>60</td>\n",
       "      <td>101</td>\n",
       "      <td>6</td>\n",
       "      <td>1.0</td>\n",
       "      <td>0</td>\n",
       "      <td>1</td>\n",
       "    </tr>\n",
       "    <tr>\n",
       "      <td>912707</td>\n",
       "      <td>14</td>\n",
       "      <td>60</td>\n",
       "      <td>162</td>\n",
       "      <td>15</td>\n",
       "      <td>0.0</td>\n",
       "      <td>0</td>\n",
       "      <td>1</td>\n",
       "    </tr>\n",
       "    <tr>\n",
       "      <td>912710</td>\n",
       "      <td>14</td>\n",
       "      <td>60</td>\n",
       "      <td>101</td>\n",
       "      <td>6</td>\n",
       "      <td>1.0</td>\n",
       "      <td>0</td>\n",
       "      <td>1</td>\n",
       "    </tr>\n",
       "  </tbody>\n",
       "</table>\n",
       "<p>110570 rows × 7 columns</p>\n",
       "</div>"
      ],
      "text/plain": [
       "        hour  device_make  platform_os  browser  brand_awarness  control  \\\n",
       "80        15            7          101       15             1.0        1   \n",
       "84         6            7          101        5             1.0        1   \n",
       "103       20           60          162        6             1.0        1   \n",
       "180        8            7          101       15             0.0        1   \n",
       "209        3           60          162        6             1.0        1   \n",
       "...      ...          ...          ...      ...             ...      ...   \n",
       "912689    23            7          178        7             0.0        0   \n",
       "912698    14           60          101        6             1.0        0   \n",
       "912706     3           60          101        6             1.0        0   \n",
       "912707    14           60          162       15             0.0        0   \n",
       "912710    14           60          101        6             1.0        0   \n",
       "\n",
       "        exposed  \n",
       "80            0  \n",
       "84            0  \n",
       "103           0  \n",
       "180           0  \n",
       "209           0  \n",
       "...         ...  \n",
       "912689        1  \n",
       "912698        1  \n",
       "912706        1  \n",
       "912707        1  \n",
       "912710        1  \n",
       "\n",
       "[110570 rows x 7 columns]"
      ]
     },
     "execution_count": 64,
     "metadata": {},
     "output_type": "execute_result"
    }
   ],
   "source": [
    "df2"
   ]
  },
  {
   "cell_type": "code",
   "execution_count": 66,
   "metadata": {},
   "outputs": [
    {
     "data": {
      "text/plain": [
       "hour              0\n",
       "device_make       0\n",
       "platform_os       0\n",
       "browser           0\n",
       "brand_awarness    0\n",
       "control           0\n",
       "exposed           0\n",
       "dtype: int64"
      ]
     },
     "execution_count": 66,
     "metadata": {},
     "output_type": "execute_result"
    }
   ],
   "source": [
    "pre.get_missing_values(df2)"
   ]
  },
  {
   "cell_type": "code",
   "execution_count": 96,
   "metadata": {},
   "outputs": [],
   "source": [
    "# splitting colmuns int independent and dependent varibles\n",
    "y = df2['brand_awarness']\n",
    "X = df2.drop([\"brand_awarness\"], axis=1)"
   ]
  },
  {
   "cell_type": "code",
   "execution_count": 97,
   "metadata": {},
   "outputs": [],
   "source": [
    "col_name = X.columns.values.tolist()"
   ]
  },
  {
   "cell_type": "code",
   "execution_count": 71,
   "metadata": {},
   "outputs": [
    {
     "data": {
      "text/plain": [
       "80        1.0\n",
       "84        1.0\n",
       "103       1.0\n",
       "180       0.0\n",
       "209       1.0\n",
       "         ... \n",
       "912689    0.0\n",
       "912698    1.0\n",
       "912706    1.0\n",
       "912707    0.0\n",
       "912710    1.0\n",
       "Name: brand_awarness, Length: 110570, dtype: float64"
      ]
     },
     "execution_count": 71,
     "metadata": {},
     "output_type": "execute_result"
    }
   ],
   "source": [
    "y"
   ]
  },
  {
   "cell_type": "code",
   "execution_count": 73,
   "metadata": {},
   "outputs": [],
   "source": [
    "# scaling the data\n",
    "from sklearn.preprocessing import StandardScaler\n",
    "sc = StandardScaler()\n",
    "X = sc.fit_transform(X)"
   ]
  },
  {
   "cell_type": "code",
   "execution_count": 74,
   "metadata": {},
   "outputs": [],
   "source": [
    "#spliting the 10 percent for the test data\n",
    "from sklearn.model_selection import train_test_split\n",
    "X_train, X_test, y_train, y_test = train_test_split(X, y, test_size = 0.1)"
   ]
  },
  {
   "cell_type": "code",
   "execution_count": 75,
   "metadata": {},
   "outputs": [],
   "source": [
    "#spliting the 20 percent for the validation data\n",
    "from sklearn.model_selection import train_test_split\n",
    "X_train, X_val, y_train, y_val = train_test_split(X_train, y_train, test_size = 0.23)"
   ]
  },
  {
   "cell_type": "code",
   "execution_count": null,
   "metadata": {},
   "outputs": [],
   "source": []
  },
  {
   "cell_type": "markdown",
   "metadata": {},
   "source": [
    "# Logistic Regression"
   ]
  },
  {
   "cell_type": "code",
   "execution_count": 86,
   "metadata": {},
   "outputs": [
    {
     "data": {
      "text/plain": [
       "{'Training Accuracy scores': array([0.84411093, 0.84350734, 0.84355628, 0.84331158, 0.84398042]),\n",
       " 'Mean Training Accuracy': 84.36933115823815,\n",
       " 'Training Precision scores': array([0.86476608, 0.86434898, 0.86435606, 0.86413053, 0.86427802]),\n",
       " 'Mean Training Precision': 0.8643759318430047,\n",
       " 'Training Recall scores': array([0.96530152, 0.96508781, 0.9651461 , 0.9651461 , 0.96586494]),\n",
       " 'Mean Training Recall': 0.96530929437364,\n",
       " 'Training F1 scores': array([0.91227233, 0.91194478, 0.91197474, 0.91184919, 0.91225205]),\n",
       " 'Mean Training F1 Score': 0.9120586178471571,\n",
       " 'Validation Accuracy scores': array([0.8422186 , 0.84404568, 0.84417618, 0.84541599, 0.84267537]),\n",
       " 'Mean Validation Accuracy': 84.37063621533441,\n",
       " 'Validation Precision scores': array([0.86309937, 0.86392053, 0.86439499, 0.86564045, 0.86488939]),\n",
       " 'Mean Validation Precision': 0.8643889480779837,\n",
       " 'Validation Recall scores': array([0.96518495, 0.96650606, 0.96596208, 0.96580665, 0.96308673]),\n",
       " 'Mean Validation Recall': 0.96530929437364,\n",
       " 'Validation F1 scores': array([0.9112921 , 0.91233862, 0.91236054, 0.91298439, 0.91135052]),\n",
       " 'Mean Validation F1 Score': 0.9120652317857013,\n",
       " 'Coefficients': []}"
      ]
     },
     "execution_count": 86,
     "metadata": {},
     "output_type": "execute_result"
    }
   ],
   "source": [
    "logReg = LogisticRegression()\n",
    "ml.cross_validation(logReg, X_train, y_train)"
   ]
  },
  {
   "cell_type": "markdown",
   "metadata": {},
   "source": [
    "### the training mean accuracy is 84%"
   ]
  },
  {
   "cell_type": "code",
   "execution_count": 88,
   "metadata": {},
   "outputs": [
    {
     "data": {
      "text/plain": [
       "LogisticRegression(C=1.0, class_weight=None, dual=False, fit_intercept=True,\n",
       "                   intercept_scaling=1, l1_ratio=None, max_iter=100,\n",
       "                   multi_class='warn', n_jobs=None, penalty='l2',\n",
       "                   random_state=None, solver='warn', tol=0.0001, verbose=0,\n",
       "                   warm_start=False)"
      ]
     },
     "execution_count": 88,
     "metadata": {},
     "output_type": "execute_result"
    }
   ],
   "source": [
    "from sklearn.linear_model import LogisticRegression\n",
    "logReg = LogisticRegression()\n",
    "logReg.fit(X_train, y_train)"
   ]
  },
  {
   "cell_type": "code",
   "execution_count": 89,
   "metadata": {},
   "outputs": [
    {
     "name": "stdout",
     "output_type": "stream",
     "text": [
      "[[ 351 1405]\n",
      " [ 308 8993]]\n"
     ]
    },
    {
     "data": {
      "text/plain": [
       "0.8450755177715474"
      ]
     },
     "execution_count": 89,
     "metadata": {},
     "output_type": "execute_result"
    }
   ],
   "source": [
    "from sklearn.metrics import confusion_matrix, accuracy_score\n",
    "y_pred = logReg.predict(X_test)\n",
    "cm = confusion_matrix(y_test, y_pred)\n",
    "print(cm)\n",
    "accuracy_score(y_test, y_pred)"
   ]
  },
  {
   "cell_type": "markdown",
   "metadata": {},
   "source": [
    "## the test score is 84% "
   ]
  },
  {
   "cell_type": "code",
   "execution_count": 90,
   "metadata": {},
   "outputs": [
    {
     "name": "stdout",
     "output_type": "stream",
     "text": [
      "mean_squared_error : 0.16 %\n",
      "Root Mean Squared Error: 0.40 %\n"
     ]
    }
   ],
   "source": [
    "from sklearn.metrics import confusion_matrix, accuracy_score, mean_squared_error\n",
    "y_pred = logReg.predict(X_val)\n",
    "mse = mean_squared_error(y_val, y_pred)\n",
    "rmse = mse**.5\n",
    "print(\"mean_squared_error : {:.2f} %\".format(mse))\n",
    "print(\"Root Mean Squared Error: {:.2f} %\".format(rmse))"
   ]
  },
  {
   "cell_type": "code",
   "execution_count": null,
   "metadata": {},
   "outputs": [],
   "source": []
  },
  {
   "cell_type": "code",
   "execution_count": 99,
   "metadata": {},
   "outputs": [
    {
     "name": "stdout",
     "output_type": "stream",
     "text": [
      "hour , Score: -0.10518\n",
      "device_make , Score: 0.67343\n",
      "platform_os , Score: -0.20742\n",
      "browser , Score: -0.19166\n",
      "control , Score: -0.22228\n",
      "exposed , Score: 0.22228\n"
     ]
    },
    {
     "data": {
      "image/png": "[encoded data removed]",
      "text/plain": [
       "<Figure size 432x288 with 1 Axes>"
      ]
     },
     "metadata": {
      "needs_background": "light"
     },
     "output_type": "display_data"
    }
   ],
   "source": [
    "# get importance\n",
    "importance = logReg.coef_[0]\n",
    "# summarize feature importance\n",
    "for i,v in enumerate(importance):\n",
    "\tprint(col_name[i], ', Score: %.5f' % (v))\n",
    "# plot feature importance\n",
    "plt.bar([x for x in range(len(importance))], importance)\n",
    "plt.show()"
   ]
  },
  {
   "cell_type": "markdown",
   "metadata": {},
   "source": [
    "# the most important feature for training logestic regression"
   ]
  },
  {
   "cell_type": "markdown",
   "metadata": {},
   "source": [
    "# Decision Tree"
   ]
  },
  {
   "cell_type": "code",
   "execution_count": 91,
   "metadata": {},
   "outputs": [
    {
     "data": {
      "text/plain": [
       "DecisionTreeClassifier(class_weight=None, criterion='entropy', max_depth=None,\n",
       "                       max_features=None, max_leaf_nodes=None,\n",
       "                       min_impurity_decrease=0.0, min_impurity_split=None,\n",
       "                       min_samples_leaf=1, min_samples_split=2,\n",
       "                       min_weight_fraction_leaf=0.0, presort=False,\n",
       "                       random_state=None, splitter='best')"
      ]
     },
     "execution_count": 91,
     "metadata": {},
     "output_type": "execute_result"
    }
   ],
   "source": [
    "from sklearn.tree import DecisionTreeClassifier\n",
    "dtc = DecisionTreeClassifier(criterion = 'entropy')\n",
    "dtc.fit(X_train, y_train)"
   ]
  },
  {
   "cell_type": "code",
   "execution_count": 92,
   "metadata": {},
   "outputs": [
    {
     "name": "stdout",
     "output_type": "stream",
     "text": [
      "[[ 532 1224]\n",
      " [ 468 8833]]\n"
     ]
    },
    {
     "data": {
      "text/plain": [
       "0.8469747671158542"
      ]
     },
     "execution_count": 92,
     "metadata": {},
     "output_type": "execute_result"
    }
   ],
   "source": [
    "from sklearn.metrics import confusion_matrix, accuracy_score\n",
    "y_pred = dtc.predict(X_test)\n",
    "cm = confusion_matrix(y_test, y_pred)\n",
    "print(cm)\n",
    "accuracy_score(y_test, y_pred)"
   ]
  },
  {
   "cell_type": "code",
   "execution_count": 93,
   "metadata": {},
   "outputs": [
    {
     "name": "stdout",
     "output_type": "stream",
     "text": [
      "mean_squared_error : 0.16 %\n",
      "Root Mean Squared Error: 0.40 %\n"
     ]
    }
   ],
   "source": [
    "from sklearn.metrics import confusion_matrix, accuracy_score, mean_squared_error\n",
    "y_pred = dtc.predict(X_val)\n",
    "mse = mean_squared_error(y_val, y_pred)\n",
    "rmse = mse**.5\n",
    "print(\"mean_squared_error : {:.2f} %\".format(mse))\n",
    "print(\"Root Mean Squared Error: {:.2f} %\".format(rmse))"
   ]
  },
  {
   "cell_type": "code",
   "execution_count": 98,
   "metadata": {},
   "outputs": [
    {
     "name": "stdout",
     "output_type": "stream",
     "text": [
      "hour , Score: 0.14235\n",
      "device_make , Score: 0.64545\n",
      "platform_os , Score: 0.12451\n",
      "browser , Score: 0.03866\n",
      "control , Score: 0.01690\n",
      "exposed , Score: 0.03213\n"
     ]
    },
    {
     "data": {
      "image/png": "[encoded data removed]",
      "text/plain": [
       "<Figure size 432x288 with 1 Axes>"
      ]
     },
     "metadata": {
      "needs_background": "light"
     },
     "output_type": "display_data"
    }
   ],
   "source": [
    "importance = dtc.feature_importances_\n",
    "# summarize feature importance\n",
    "for i,v in enumerate(importance):\n",
    "\tprint(col_name[i], ', Score: %.5f' % (v))\n",
    "# plot feature importance\n",
    "plt.bar([x for x in range(len(importance))], importance)\n",
    "plt.show()"
   ]
  },
  {
   "cell_type": "markdown",
   "metadata": {},
   "source": [
    "# the more important feature for training decesion trees is device make"
   ]
  },
  {
   "cell_type": "code",
   "execution_count": 101,
   "metadata": {},
   "outputs": [
    {
     "data": {
      "text/plain": [
       "RandomForestClassifier(bootstrap=True, class_weight=None, criterion='entropy',\n",
       "                       max_depth=None, max_features='auto', max_leaf_nodes=None,\n",
       "                       min_impurity_decrease=0.0, min_impurity_split=None,\n",
       "                       min_samples_leaf=1, min_samples_split=2,\n",
       "                       min_weight_fraction_leaf=0.0, n_estimators=10,\n",
       "                       n_jobs=None, oob_score=False, random_state=None,\n",
       "                       verbose=0, warm_start=False)"
      ]
     },
     "execution_count": 101,
     "metadata": {},
     "output_type": "execute_result"
    }
   ],
   "source": [
    "from sklearn.ensemble import RandomForestClassifier\n",
    "rfc = RandomForestClassifier(n_estimators = 10, criterion = 'entropy')\n",
    "rfc.fit(X_train, y_train)"
   ]
  },
  {
   "cell_type": "code",
   "execution_count": 106,
   "metadata": {},
   "outputs": [
    {
     "name": "stdout",
     "output_type": "stream",
     "text": [
      "[[ 501 1255]\n",
      " [ 412 8889]]\n",
      "Accuracy Score: 0.85 %\n"
     ]
    }
   ],
   "source": [
    "from sklearn.metrics import confusion_matrix, accuracy_score\n",
    "y_pred = rfc.predict(X_test)\n",
    "cm = confusion_matrix(y_test, y_pred)\n",
    "print(cm)\n",
    "accuracy_score(y_test, y_pred)\n",
    "print(\"Accuracy Score: {:.2f} %\".format(accuracy_score(y_test, y_pred)))"
   ]
  },
  {
   "cell_type": "code",
   "execution_count": 103,
   "metadata": {},
   "outputs": [
    {
     "name": "stdout",
     "output_type": "stream",
     "text": [
      "Accuracy: 85.00 %\n",
      "Standard Deviation: 0.20 %\n"
     ]
    }
   ],
   "source": [
    "#doing k-fold cross-validation\n",
    "from sklearn.model_selection import cross_val_score\n",
    "accuracies = cross_val_score(estimator = rfc, X = X_train, y = y_train, cv = 5)\n",
    "print(\"Accuracy: {:.2f} %\".format(accuracies.mean()*100))\n",
    "print(\"Standard Deviation: {:.2f} %\".format(accuracies.std()*100))"
   ]
  },
  {
   "cell_type": "code",
   "execution_count": 104,
   "metadata": {},
   "outputs": [
    {
     "name": "stdout",
     "output_type": "stream",
     "text": [
      "mean_squared_error : 0.15 %\n",
      "Root Mean Squared Error: 0.39 %\n"
     ]
    }
   ],
   "source": [
    "from sklearn.metrics import confusion_matrix, accuracy_score, mean_squared_error\n",
    "y_pred = rfc.predict(X_val)\n",
    "mse = mean_squared_error(y_val, y_pred)\n",
    "rmse = mse**.5\n",
    "print(\"mean_squared_error : {:.2f} %\".format(mse))\n",
    "print(\"Root Mean Squared Error: {:.2f} %\".format(rmse))"
   ]
  },
  {
   "cell_type": "code",
   "execution_count": 105,
   "metadata": {},
   "outputs": [
    {
     "name": "stdout",
     "output_type": "stream",
     "text": [
      "hour , Score: 0.18481\n",
      "device_make , Score: 0.37272\n",
      "platform_os , Score: 0.12563\n",
      "browser , Score: 0.07973\n",
      "control , Score: 0.19081\n",
      "exposed , Score: 0.04630\n"
     ]
    },
    {
     "data": {
      "image/png": "[encoded data removed]",
      "text/plain": [
       "<Figure size 432x288 with 1 Axes>"
      ]
     },
     "metadata": {
      "needs_background": "light"
     },
     "output_type": "display_data"
    }
   ],
   "source": [
    "importance = rfc.feature_importances_\n",
    "# summarize feature importance\n",
    "for i,v in enumerate(importance):\n",
    "\tprint(col_name[i], ', Score: %.5f' % (v))\n",
    "# plot feature importance\n",
    "plt.bar([x for x in range(len(importance))], importance)\n",
    "plt.show()"
   ]
  },
  {
   "cell_type": "markdown",
   "metadata": {},
   "source": [
    "#### the most important feature for training the was 'device_make' for all models\n",
    "#### the accuracy for the training data was similiar to the test data meaning the model was able to generalize which is a good thing\n",
    "#### for this data there was no problem with overfitting \n",
    "# the mean squared\n",
    "# the number of yes being more greater than the number of 'no' in brand awareness and having an 85% accuracy shows that the creative ad designed has a siginificant impact on brand awareness. In the overall it was sucessful on creating more brand awareness"
   ]
  },
  {
   "cell_type": "code",
   "execution_count": null,
   "metadata": {},
   "outputs": [],
   "source": []
  }
 ],
 "metadata": {
  "kernelspec": {
   "display_name": "Python 3",
   "language": "python",
   "name": "python3"
  },
  "language_info": {
   "codemirror_mode": {
    "name": "ipython",
    "version": 3
   },
   "file_extension": ".py",
   "mimetype": "text/x-python",
   "name": "python",
   "nbconvert_exporter": "python",
   "pygments_lexer": "ipython3",
   "version": "3.7.4"
  }
 },
 "nbformat": 4,
 "nbformat_minor": 2
}
